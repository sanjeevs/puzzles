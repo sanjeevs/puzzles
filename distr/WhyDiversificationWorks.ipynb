{
 "cells": [
  {
   "cell_type": "markdown",
   "metadata": {},
   "source": [
    "# Diversification\n",
    "Assume that I am paid money equal to the face of the dice. Is it better for me to play with single dice vs 2 dice? For 2 dice case, I will get the average of the 2 faces of the dice.\n",
    "\n",
    "1. Mean in both the cases would be 21/6 = 3.5\n",
    "2. However the std dev for 2 dice is less than that of single dice. \n",
    "\n",
    "**Hence diversification reduces risk!!**\n"
   ]
  },
  {
   "cell_type": "code",
   "execution_count": 50,
   "metadata": {},
   "outputs": [],
   "source": [
    "# Imports\n",
    "import numpy as np\n",
    "import matplotlib.pyplot as plt\n",
    "%matplotlib inline"
   ]
  },
  {
   "cell_type": "code",
   "execution_count": 51,
   "metadata": {},
   "outputs": [
    {
     "name": "stdout",
     "output_type": "stream",
     "text": [
      "Mean value of single dice rolls is 3.499166\n",
      "Std dev of single dice rolls is 1.7080641979867153\n"
     ]
    }
   ],
   "source": [
    "# Single roll of the dice\n",
    "dice = np.arange(1, 7)\n",
    "num_rolls = 10**6\n",
    "\n",
    "single_dice_rolls = np.random.choice(dice, size=num_rolls)\n",
    "hist, bins = np.histogram(single_dice_rolls, bins=6)\n",
    "print(\"Mean value of single dice rolls is {}\".format(single_dice_rolls.mean()))\n",
    "print(\"Std dev of single dice rolls is {}\".format(single_dice_rolls.std()))\n"
   ]
  },
  {
   "cell_type": "code",
   "execution_count": 52,
   "metadata": {},
   "outputs": [
    {
     "data": {
      "image/png": "[encoded data removed]",
      "text/plain": [
       "<Figure size 432x288 with 1 Axes>"
      ]
     },
     "metadata": {
      "needs_background": "light"
     },
     "output_type": "display_data"
    }
   ],
   "source": [
    "#plt.hist(hist, bins=bin_edges)\n",
    "width = 0.7 * (bins[1] - bins[0])\n",
    "center = (bins[:-1] + bins[1:]) / 2\n",
    "plt.bar(center, hist, align='center', width=width)\n",
    "plt.show()"
   ]
  },
  {
   "cell_type": "markdown",
   "metadata": {},
   "source": [
    "## Double Dice Rolls\n",
    "Now we roll 2 dices the same number of times and take the average.\n"
   ]
  },
  {
   "cell_type": "code",
   "execution_count": 53,
   "metadata": {},
   "outputs": [
    {
     "name": "stdout",
     "output_type": "stream",
     "text": [
      "Mean value of double dice rolls is 3.499349\n",
      "Std dev of single double rolls is 1.2073090226611412\n"
     ]
    }
   ],
   "source": [
    "double_dice_rolls = np.random.choice(dice, size=num_rolls) + np.random.choice(dice, size=num_rolls)\n",
    "hist, bins = np.histogram(double_dice_rolls, bins=12)\n",
    "\n",
    "double_dice_rolls = double_dice_rolls / 2\n",
    "\n",
    "print(\"Mean value of double dice rolls is {}\".format(double_dice_rolls.mean()))\n",
    "print(\"Std dev of single double rolls is {}\".format(double_dice_rolls.std()))"
   ]
  },
  {
   "cell_type": "code",
   "execution_count": 54,
   "metadata": {},
   "outputs": [
    {
     "data": {
      "image/png": "[encoded data removed]",
      "text/plain": [
       "<Figure size 432x288 with 1 Axes>"
      ]
     },
     "metadata": {
      "needs_background": "light"
     },
     "output_type": "display_data"
    }
   ],
   "source": [
    "width = 0.7 * (bins[1] - bins[0])\n",
    "center = (bins[:-1] + bins[1:]) / 2\n",
    "plt.bar(center, hist, align='center', width=width)\n",
    "plt.show()"
   ]
  }
 ],
 "metadata": {
  "kernelspec": {
   "display_name": "Python 3",
   "language": "python",
   "name": "python3"
  },
  "language_info": {
   "codemirror_mode": {
    "name": "ipython",
    "version": 3
   },
   "file_extension": ".py",
   "mimetype": "text/x-python",
   "name": "python",
   "nbconvert_exporter": "python",
   "pygments_lexer": "ipython3",
   "version": "3.7.4"
  }
 },
 "nbformat": 4,
 "nbformat_minor": 2
}
